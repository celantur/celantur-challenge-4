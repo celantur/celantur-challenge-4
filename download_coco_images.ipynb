{
 "cells": [
  {
   "cell_type": "code",
   "execution_count": null,
   "id": "moral-weather",
   "metadata": {},
   "outputs": [],
   "source": [
    "import json\n",
    "import requests\n",
    "import os"
   ]
  },
  {
   "cell_type": "code",
   "execution_count": null,
   "id": "supported-mainstream",
   "metadata": {},
   "outputs": [],
   "source": [
    "with open(\"selected_images.json\", \"r\") as fp: \n",
    "    selected_images = json.load(fp)"
   ]
  },
  {
   "cell_type": "code",
   "execution_count": null,
   "id": "clear-converter",
   "metadata": {},
   "outputs": [],
   "source": [
    "# Download selected images\n",
    "folder_original = \"assets/original\"\n",
    "os.makedirs(folder_original, exist_ok=True)\n",
    "for i in selected_images['images']:\n",
    "    downloaded_image = requests.get(i['coco_url'])\n",
    "    with open(os.path.join(folder_original, i['file_name']), 'wb') as fp:\n",
    "        fp.write(downloaded_image.content)"
   ]
  },
  {
   "cell_type": "code",
   "execution_count": null,
   "id": "9c4793fb",
   "metadata": {},
   "outputs": [],
   "source": [
    "# Get image ids\n",
    "selected_image_ids = [i['id'] for i in selected_images['images']]"
   ]
  },
  {
   "cell_type": "code",
   "execution_count": null,
   "id": "e3068441",
   "metadata": {},
   "outputs": [],
   "source": [
    "# Get annotations for given image id\n",
    "[a['id'] for a in selected_images['annotations'] if a['image_id'] == selected_image_ids[10]]"
   ]
  }
 ],
 "metadata": {
  "kernelspec": {
   "display_name": "Python 3.8.10 64-bit",
   "language": "python",
   "name": "python3"
  },
  "language_info": {
   "codemirror_mode": {
    "name": "ipython",
    "version": 3
   },
   "file_extension": ".py",
   "mimetype": "text/x-python",
   "name": "python",
   "nbconvert_exporter": "python",
   "pygments_lexer": "ipython3",
   "version": "3.8.10"
  },
  "vscode": {
   "interpreter": {
    "hash": "916dbcbb3f70747c44a77c7bcd40155683ae19c65e1c03b4aa3499c5328201f1"
   }
  }
 },
 "nbformat": 4,
 "nbformat_minor": 5
}
