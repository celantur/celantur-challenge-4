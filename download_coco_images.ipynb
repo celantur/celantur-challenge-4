{
 "cells": [
  {
   "cell_type": "code",
   "execution_count": null,
   "id": "moral-weather",
   "metadata": {},
   "outputs": [],
   "source": [
    "import json\n",
    "import requests\n",
    "import os\n",
    "\n",
    "from pycocotools.coco import COCO\n",
    "import numpy as np\n",
    "import cv2"
   ]
  },
  {
   "cell_type": "code",
   "execution_count": null,
   "id": "supported-mainstream",
   "metadata": {},
   "outputs": [],
   "source": [
    "with open(\"selected_images.json\", \"r\") as fp: \n",
    "    selected_images = json.load(fp)"
   ]
  },
  {
   "cell_type": "code",
   "execution_count": null,
   "id": "clear-converter",
   "metadata": {
    "scrolled": false
   },
   "outputs": [],
   "source": [
    "# Download selected images\n",
    "folder_original = \"assets/original\"\n",
    "os.makedirs(folder_original, exist_ok=True)\n",
    "for i in selected_images['images']:\n",
    "    downloaded_image = requests.get(i['coco_url'])\n",
    "    with open(os.path.join(folder_original, i['file_name']), 'wb') as fp:\n",
    "        fp.write(downloaded_image.content)\n",
    "    # Large version\n",
    "    image = np.asarray(bytearray(downloaded_image.content), dtype=np.uint8)\n",
    "    image = cv2.imdecode(image, cv2.IMREAD_COLOR)\n",
    "    large_image = cv2.resize(image, dsize=None, fx = 10, fy = 10, interpolation = cv2.INTER_AREA)\n",
    "    filename = os.path.splitext(i['file_name'])\n",
    "    cv2.imwrite(os.path.join(folder_original, f\"{filename[0]}_10xlarge{filename[1]}\"), large_image)"
   ]
  },
  {
   "cell_type": "code",
   "execution_count": null,
   "id": "9c4793fb",
   "metadata": {},
   "outputs": [],
   "source": [
    "# Get image ids\n",
    "selected_image_ids = [i['id'] for i in selected_images['images']]"
   ]
  },
  {
   "cell_type": "code",
   "execution_count": null,
   "id": "e3068441",
   "metadata": {
    "scrolled": true
   },
   "outputs": [],
   "source": [
    "# Get annotations for given image id\n",
    "\n",
    "cc = COCO(annotation_file=\"selected_images.json\")\n",
    "\n",
    "for id_ in selected_image_ids:\n",
    "    annotations = [a for a in selected_images['annotations'] if a['image_id'] == id_ and a['category_id'] == 1]\n",
    "    masks = np.array([cc.annToMask(a) for a in annotations])\n",
    "    mask = masks.max(0).astype(np.uint8)*255\n",
    "    cv2.imwrite(os.path.join(folder_original, str(id_).zfill(12) +  \"_mask.png\"), mask)\n",
    "    # Large version\n",
    "    large_mask = cv2.resize(mask, dsize=None, fx = 10, fy = 10, interpolation = cv2.INTER_AREA)\n",
    "    cv2.imwrite(os.path.join(folder_original, str(id_).zfill(12) +  \"_10xlarge_mask.png\"), large_mask)"
   ]
  }
 ],
 "metadata": {
  "kernelspec": {
   "display_name": "Python 3",
   "language": "python",
   "name": "python3"
  },
  "language_info": {
   "codemirror_mode": {
    "name": "ipython",
    "version": 3
   },
   "file_extension": ".py",
   "mimetype": "text/x-python",
   "name": "python",
   "nbconvert_exporter": "python",
   "pygments_lexer": "ipython3",
   "version": "3.8.10"
  },
  "vscode": {
   "interpreter": {
    "hash": "916dbcbb3f70747c44a77c7bcd40155683ae19c65e1c03b4aa3499c5328201f1"
   }
  }
 },
 "nbformat": 4,
 "nbformat_minor": 5
}
