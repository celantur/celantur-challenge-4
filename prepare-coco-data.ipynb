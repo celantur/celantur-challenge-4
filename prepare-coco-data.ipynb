{
 "cells": [
  {
   "cell_type": "markdown",
   "id": "composite-workshop",
   "metadata": {},
   "source": [
    "# Preparing Dataset for Challenge\n",
    "\n",
    "DO NOT run this code. Use the file `selected_images.txt` that has been already generated."
   ]
  },
  {
   "cell_type": "code",
   "execution_count": null,
   "id": "divided-october",
   "metadata": {},
   "outputs": [],
   "source": [
    "import json\n",
    "from random import sample"
   ]
  },
  {
   "cell_type": "code",
   "execution_count": null,
   "id": "international-mercy",
   "metadata": {},
   "outputs": [],
   "source": [
    "# Load annotations\n",
    "with open(\"annotations/instances_val2017.json\", \"r\") as fp: \n",
    "    annotation_file = json.load(fp)"
   ]
  },
  {
   "cell_type": "code",
   "execution_count": null,
   "id": "9af730fd",
   "metadata": {},
   "outputs": [],
   "source": [
    "# Draw images with persons\n",
    "person_annotations = [annotation for annotation in annotation_file[\"annotations\"] if annotation['category_id'] == 1]\n",
    "random_drawn_annotations = sample(person_annotations, k=100)\n",
    "random_drawn_image_ids = [o[\"image_id\"] for o in random_drawn_annotations]\n",
    "selected_images = [i for i in annotation_file['images'] if i['id'] in random_drawn_image_ids]\n",
    "selected_annotations = [a for a in annotation_file['annotations'] if a['image_id'] in random_drawn_image_ids]\n",
    "output = {'images': selected_images, 'annotations': selected_annotations}"
   ]
  },
  {
   "cell_type": "code",
   "execution_count": null,
   "id": "3b72ccd8",
   "metadata": {},
   "outputs": [],
   "source": [
    "# Save output\n",
    "with open('selected_images.json', 'w') as fp:\n",
    "    json.dump(output, fp)"
   ]
  },
  {
   "cell_type": "code",
   "execution_count": null,
   "id": "9f39364f",
   "metadata": {},
   "outputs": [],
   "source": [
    "# Check person annotation ids\n",
    "[a['id'] for a in selected_annotations if a['image_id'] == random_drawn_image_ids[1]]"
   ]
  },
  {
   "cell_type": "code",
   "execution_count": null,
   "id": "d80e7e41",
   "metadata": {},
   "outputs": [],
   "source": []
  }
 ],
 "metadata": {
  "kernelspec": {
   "display_name": "Python 3.8.10 64-bit",
   "language": "python",
   "name": "python3"
  },
  "language_info": {
   "codemirror_mode": {
    "name": "ipython",
    "version": 3
   },
   "file_extension": ".py",
   "mimetype": "text/x-python",
   "name": "python",
   "nbconvert_exporter": "python",
   "pygments_lexer": "ipython3",
   "version": "3.8.10"
  },
  "vscode": {
   "interpreter": {
    "hash": "916dbcbb3f70747c44a77c7bcd40155683ae19c65e1c03b4aa3499c5328201f1"
   }
  }
 },
 "nbformat": 4,
 "nbformat_minor": 5
}
